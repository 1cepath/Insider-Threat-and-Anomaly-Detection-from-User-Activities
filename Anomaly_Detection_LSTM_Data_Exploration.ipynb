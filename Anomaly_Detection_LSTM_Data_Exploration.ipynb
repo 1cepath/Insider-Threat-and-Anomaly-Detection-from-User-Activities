{
 "cells": [
  {
   "cell_type": "markdown",
   "metadata": {
    "colab_type": "text",
    "id": "view-in-github"
   },
   "source": [
    "<a href=\"https://colab.research.google.com/github/jyonalee/Insider-Threat-and-Anomaly-Detection-from-User-Activities/blob/master/Anomaly_Detection_LSTM_Data_Exploration.ipynb\" target=\"_parent\"><img src=\"https://colab.research.google.com/assets/colab-badge.svg\" alt=\"Open In Colab\"/></a>"
   ]
  },
  {
   "cell_type": "code",
   "execution_count": null,
   "metadata": {
    "colab": {
     "base_uri": "https://localhost:8080/",
     "height": 700
    },
    "colab_type": "code",
    "id": "IN1DD_4ENdh3",
    "outputId": "7546edde-3f51-4058-93dc-b44ca2fddadd"
   },
   "outputs": [],
   "source": [
    "# install awscli to download the data\n",
    "!pip3 install awscli --upgrade --user\n",
    "\n",
    "# download data and save it on `data`\n",
    "!mkdir data\n",
    "!~/.local/bin/aws s3 sync --no-sign-request --region us-west-1 \"s3://cse-cic-ids2018/Processed Traffic Data for ML Algorithms/\" data/."
   ]
  },
  {
   "cell_type": "markdown",
   "metadata": {
    "colab_type": "text",
    "id": "SkKNa_ymcmhP"
   },
   "source": [
    "# Anomaly Detection with LSTM in Network Traffic Data"
   ]
  },
  {
   "cell_type": "markdown",
   "metadata": {
    "colab_type": "text",
    "id": "tKUEkeVGb2Iw"
   },
   "source": [
    "This project explores anomaly detection in network traffic with RNN-LSTM to train the model.\n",
    "\n",
    "The dataset can be obtained [here](https://www.unb.ca/cic/datasets/ids-2018.html)\n",
    "\n",
    "This is part of the capstone project for the Machine Learning Nano Degree from Udacity"
   ]
  },
  {
   "cell_type": "markdown",
   "metadata": {
    "colab_type": "text",
    "id": "5kTBtr-Ibisb"
   },
   "source": [
    "## Data Exploration\n",
    "\n",
    "---\n",
    "\n"
   ]
  },
  {
   "cell_type": "code",
   "execution_count": 1,
   "metadata": {
    "colab": {},
    "colab_type": "code",
    "id": "4Xgqhe0NXYdQ"
   },
   "outputs": [],
   "source": [
    "import pandas as pd\n",
    "import numpy as np\n",
    "import os\n",
    "import glob"
   ]
  },
  {
   "cell_type": "code",
   "execution_count": 2,
   "metadata": {
    "colab": {
     "base_uri": "https://localhost:8080/",
     "height": 173
    },
    "colab_type": "code",
    "id": "76_1DLJ5cjp5",
    "outputId": "04d6efa2-e8c6-4608-f8c5-66f7be708706"
   },
   "outputs": [
    {
     "name": "stderr",
     "output_type": "stream",
     "text": [
      "/home/jlee/miniconda3/lib/python3.6/site-packages/IPython/core/interactiveshell.py:3020: DtypeWarning: Columns (0,1,3,4,5,6,7,8,9,10,11,12,13,14,15,16,18,19,20,21,22,23,24,25,26,27,28,29,30,31,32,33,34,35,36,37,38,39,40,41,42,43,44,45,46,47,48,49,50,51,52,53,54,55,56,57,58,59,60,61,62,63,64,65,66,67,68,69,70,71,72,73,74,75,76,77,78) have mixed types. Specify dtype option on import or set low_memory=False.\n",
      "  interactivity=interactivity, compiler=compiler, result=result)\n",
      "/home/jlee/miniconda3/lib/python3.6/site-packages/IPython/core/interactiveshell.py:3020: DtypeWarning: Columns (16,17) have mixed types. Specify dtype option on import or set low_memory=False.\n",
      "  interactivity=interactivity, compiler=compiler, result=result)\n"
     ]
    }
   ],
   "source": [
    "# load data and do preliminary cleaning\n",
    "directory = '/home/jlee/cse-cic-ids2018/Processed Traffic Data for ML Algorithms'\n",
    "\n",
    "filepath = os.path.join(directory,'Thursday-01-03-2018_TrafficForML_CICFlowMeter.csv')\n",
    "df1 = pd.read_csv(filepath)\n",
    "df1 = df1[df1['Protocol'] != 'Protocol']\n",
    "# filepath = os.path.join(directory,'Friday-16-02-2018_TrafficForML_CICFlowMeter.csv')\n",
    "# df2 = pd.read_csv(filepath)\n",
    "# df2 = df2[df2['Protocol'] != 'Protocol']\n",
    "filepath = os.path.join(directory,'Friday-02-03-2018_TrafficForML_CICFlowMeter.csv')\n",
    "df3 = pd.read_csv(filepath)\n",
    "# filepath = os.path.join(directory,'Friday-23-02-2018_TrafficForML_CICFlowMeter.csv')\n",
    "# df4 = pd.read_csv(filepath)\n",
    "# filepath = os.path.join(directory,'Thursday-15-02-2018_TrafficForML_CICFlowMeter.csv')\n",
    "# df5 = pd.read_csv(filepath)\n",
    "# filepath = os.path.join(directory,'Wednesday-14-02-2018_TrafficForML_CICFlowMeter.csv')\n",
    "# df6 = pd.read_csv(filepath)\n",
    "# filepath = os.path.join(directory,'Thursday-22-02-2018_TrafficForML_CICFlowMeter.csv')\n",
    "# df7 = pd.read_csv(filepath)\n",
    "filepath = os.path.join(directory,'Wednesday-28-02-2018_TrafficForML_CICFlowMeter.csv')\n",
    "df8 = pd.read_csv(filepath)\n",
    "df8 = df8[df8['Protocol'] != 'Protocol']\n",
    "# filepath = os.path.join(directory,'Wednesday-21-02-2018_TrafficForML_CICFlowMeter.csv')\n",
    "# df9 = pd.read_csv(filepath)\n"
   ]
  },
  {
   "cell_type": "code",
   "execution_count": 3,
   "metadata": {},
   "outputs": [],
   "source": [
    "# filepath = os.path.join(directory,'Thuesday-20-02-2018_TrafficForML_CICFlowMeter.csv')\n",
    "# df10 = pd.read_csv(filepath)\n",
    "# df10 = df10[df10['Protocol'] != 'Protocol']"
   ]
  },
  {
   "cell_type": "code",
   "execution_count": 4,
   "metadata": {
    "colab": {},
    "colab_type": "code",
    "id": "tom9WRWrXUFH"
   },
   "outputs": [],
   "source": [
    "df = pd.concat([df1,df3,df8], ignore_index=True)"
   ]
  },
  {
   "cell_type": "code",
   "execution_count": 5,
   "metadata": {
    "colab": {},
    "colab_type": "code",
    "id": "WsF4CSgi8na2"
   },
   "outputs": [],
   "source": [
    "# clean up intermediary dataframes to free memory\n",
    "del df1\n",
    "# del df2\n",
    "del df3\n",
    "# del df4\n",
    "# del df5\n",
    "# del df6\n",
    "# del df7\n",
    "del df8\n",
    "# del df9\n"
   ]
  },
  {
   "cell_type": "code",
   "execution_count": 6,
   "metadata": {},
   "outputs": [
    {
     "data": {
      "text/plain": [
       "1992746"
      ]
     },
     "execution_count": 6,
     "metadata": {},
     "output_type": "execute_result"
    }
   ],
   "source": [
    "len(df)"
   ]
  },
  {
   "cell_type": "code",
   "execution_count": 7,
   "metadata": {},
   "outputs": [
    {
     "name": "stdout",
     "output_type": "stream",
     "text": [
      "Benign           1544621\n",
      "Bot               286191\n",
      "Infilteration     161934\n",
      "Name: Label, dtype: int64\n"
     ]
    }
   ],
   "source": [
    "# get count of each label\n",
    "print(df['Label'].value_counts())"
   ]
  },
  {
   "cell_type": "code",
   "execution_count": 8,
   "metadata": {},
   "outputs": [
    {
     "name": "stdout",
     "output_type": "stream",
     "text": [
      "Benign           0.775122\n",
      "Bot              0.143616\n",
      "Infilteration    0.081262\n",
      "Name: Label, dtype: float64\n"
     ]
    }
   ],
   "source": [
    "# get distribution in of each label\n",
    "print(df['Label'].value_counts()/len(df))"
   ]
  },
  {
   "cell_type": "markdown",
   "metadata": {},
   "source": [
    "so in essence, 73.8% of data points in this dataset is 'Benign' while the rest are some form of malicious attack"
   ]
  },
  {
   "cell_type": "code",
   "execution_count": 9,
   "metadata": {},
   "outputs": [
    {
     "data": {
      "text/html": [
       "<div>\n",
       "<style scoped>\n",
       "    .dataframe tbody tr th:only-of-type {\n",
       "        vertical-align: middle;\n",
       "    }\n",
       "\n",
       "    .dataframe tbody tr th {\n",
       "        vertical-align: top;\n",
       "    }\n",
       "\n",
       "    .dataframe thead th {\n",
       "        text-align: right;\n",
       "    }\n",
       "</style>\n",
       "<table border=\"1\" class=\"dataframe\">\n",
       "  <thead>\n",
       "    <tr style=\"text-align: right;\">\n",
       "      <th></th>\n",
       "      <th>Dst Port</th>\n",
       "      <th>Protocol</th>\n",
       "      <th>Timestamp</th>\n",
       "      <th>Flow Duration</th>\n",
       "      <th>Tot Fwd Pkts</th>\n",
       "      <th>Tot Bwd Pkts</th>\n",
       "      <th>TotLen Fwd Pkts</th>\n",
       "      <th>TotLen Bwd Pkts</th>\n",
       "      <th>Fwd Pkt Len Max</th>\n",
       "      <th>Fwd Pkt Len Min</th>\n",
       "      <th>...</th>\n",
       "      <th>Fwd Seg Size Min</th>\n",
       "      <th>Active Mean</th>\n",
       "      <th>Active Std</th>\n",
       "      <th>Active Max</th>\n",
       "      <th>Active Min</th>\n",
       "      <th>Idle Mean</th>\n",
       "      <th>Idle Std</th>\n",
       "      <th>Idle Max</th>\n",
       "      <th>Idle Min</th>\n",
       "      <th>Label</th>\n",
       "    </tr>\n",
       "  </thead>\n",
       "  <tbody>\n",
       "    <tr>\n",
       "      <th>0</th>\n",
       "      <td>0</td>\n",
       "      <td>0</td>\n",
       "      <td>01/03/2018 08:17:11</td>\n",
       "      <td>115307855</td>\n",
       "      <td>5</td>\n",
       "      <td>0</td>\n",
       "      <td>0</td>\n",
       "      <td>0</td>\n",
       "      <td>0</td>\n",
       "      <td>0</td>\n",
       "      <td>...</td>\n",
       "      <td>0</td>\n",
       "      <td>1812348</td>\n",
       "      <td>0</td>\n",
       "      <td>1812348</td>\n",
       "      <td>1812348</td>\n",
       "      <td>56700000</td>\n",
       "      <td>6010057.622</td>\n",
       "      <td>61000000</td>\n",
       "      <td>52500000</td>\n",
       "      <td>Benign</td>\n",
       "    </tr>\n",
       "    <tr>\n",
       "      <th>1</th>\n",
       "      <td>0</td>\n",
       "      <td>0</td>\n",
       "      <td>01/03/2018 08:20:07</td>\n",
       "      <td>60997457</td>\n",
       "      <td>2</td>\n",
       "      <td>0</td>\n",
       "      <td>0</td>\n",
       "      <td>0</td>\n",
       "      <td>0</td>\n",
       "      <td>0</td>\n",
       "      <td>...</td>\n",
       "      <td>0</td>\n",
       "      <td>0</td>\n",
       "      <td>0</td>\n",
       "      <td>0</td>\n",
       "      <td>0</td>\n",
       "      <td>61000000</td>\n",
       "      <td>0</td>\n",
       "      <td>61000000</td>\n",
       "      <td>61000000</td>\n",
       "      <td>Benign</td>\n",
       "    </tr>\n",
       "    <tr>\n",
       "      <th>2</th>\n",
       "      <td>67</td>\n",
       "      <td>17</td>\n",
       "      <td>01/03/2018 08:17:18</td>\n",
       "      <td>61149019</td>\n",
       "      <td>5</td>\n",
       "      <td>0</td>\n",
       "      <td>1500</td>\n",
       "      <td>0</td>\n",
       "      <td>300</td>\n",
       "      <td>300</td>\n",
       "      <td>...</td>\n",
       "      <td>8</td>\n",
       "      <td>3530939</td>\n",
       "      <td>0</td>\n",
       "      <td>3530939</td>\n",
       "      <td>3530939</td>\n",
       "      <td>19200000</td>\n",
       "      <td>12500000</td>\n",
       "      <td>32600000</td>\n",
       "      <td>7999725</td>\n",
       "      <td>Benign</td>\n",
       "    </tr>\n",
       "    <tr>\n",
       "      <th>3</th>\n",
       "      <td>0</td>\n",
       "      <td>0</td>\n",
       "      <td>01/03/2018 08:22:09</td>\n",
       "      <td>60997555</td>\n",
       "      <td>2</td>\n",
       "      <td>0</td>\n",
       "      <td>0</td>\n",
       "      <td>0</td>\n",
       "      <td>0</td>\n",
       "      <td>0</td>\n",
       "      <td>...</td>\n",
       "      <td>0</td>\n",
       "      <td>0</td>\n",
       "      <td>0</td>\n",
       "      <td>0</td>\n",
       "      <td>0</td>\n",
       "      <td>61000000</td>\n",
       "      <td>0</td>\n",
       "      <td>61000000</td>\n",
       "      <td>61000000</td>\n",
       "      <td>Benign</td>\n",
       "    </tr>\n",
       "    <tr>\n",
       "      <th>4</th>\n",
       "      <td>0</td>\n",
       "      <td>0</td>\n",
       "      <td>01/03/2018 08:24:11</td>\n",
       "      <td>61997503</td>\n",
       "      <td>3</td>\n",
       "      <td>0</td>\n",
       "      <td>0</td>\n",
       "      <td>0</td>\n",
       "      <td>0</td>\n",
       "      <td>0</td>\n",
       "      <td>...</td>\n",
       "      <td>0</td>\n",
       "      <td>999909</td>\n",
       "      <td>0</td>\n",
       "      <td>999909</td>\n",
       "      <td>999909</td>\n",
       "      <td>61000000</td>\n",
       "      <td>0</td>\n",
       "      <td>61000000</td>\n",
       "      <td>61000000</td>\n",
       "      <td>Benign</td>\n",
       "    </tr>\n",
       "  </tbody>\n",
       "</table>\n",
       "<p>5 rows × 80 columns</p>\n",
       "</div>"
      ],
      "text/plain": [
       "  Dst Port Protocol            Timestamp Flow Duration Tot Fwd Pkts  \\\n",
       "0        0        0  01/03/2018 08:17:11     115307855            5   \n",
       "1        0        0  01/03/2018 08:20:07      60997457            2   \n",
       "2       67       17  01/03/2018 08:17:18      61149019            5   \n",
       "3        0        0  01/03/2018 08:22:09      60997555            2   \n",
       "4        0        0  01/03/2018 08:24:11      61997503            3   \n",
       "\n",
       "  Tot Bwd Pkts TotLen Fwd Pkts TotLen Bwd Pkts Fwd Pkt Len Max  \\\n",
       "0            0               0               0               0   \n",
       "1            0               0               0               0   \n",
       "2            0            1500               0             300   \n",
       "3            0               0               0               0   \n",
       "4            0               0               0               0   \n",
       "\n",
       "  Fwd Pkt Len Min  ... Fwd Seg Size Min Active Mean Active Std Active Max  \\\n",
       "0               0  ...                0     1812348          0    1812348   \n",
       "1               0  ...                0           0          0          0   \n",
       "2             300  ...                8     3530939          0    3530939   \n",
       "3               0  ...                0           0          0          0   \n",
       "4               0  ...                0      999909          0     999909   \n",
       "\n",
       "  Active Min Idle Mean     Idle Std  Idle Max  Idle Min   Label  \n",
       "0    1812348  56700000  6010057.622  61000000  52500000  Benign  \n",
       "1          0  61000000            0  61000000  61000000  Benign  \n",
       "2    3530939  19200000     12500000  32600000   7999725  Benign  \n",
       "3          0  61000000            0  61000000  61000000  Benign  \n",
       "4     999909  61000000            0  61000000  61000000  Benign  \n",
       "\n",
       "[5 rows x 80 columns]"
      ]
     },
     "execution_count": 9,
     "metadata": {},
     "output_type": "execute_result"
    }
   ],
   "source": [
    "df.head()"
   ]
  },
  {
   "cell_type": "code",
   "execution_count": 13,
   "metadata": {},
   "outputs": [],
   "source": [
    "# convert columns to correct data types\n",
    "df[['Dst Port','Protocol','Label']] = df[['Dst Port','Protocol','Label']].astype(str)\n",
    "df[df.columns.difference(['Dst Port','Protocol','Timestamp','Label'])] = df[df.columns.difference(['Dst Port','Protocol','Timestamp','Label'])].apply(pd.to_numeric, errors='coerce')\n",
    "df['Timestamp'] = pd.to_datetime(df.Timestamp, format=\"%d/%m/%Y %H:%M:%S\")"
   ]
  },
  {
   "cell_type": "code",
   "execution_count": 19,
   "metadata": {},
   "outputs": [],
   "source": [
    "df = df.sort_values(by=['Timestamp'])"
   ]
  },
  {
   "cell_type": "code",
   "execution_count": 20,
   "metadata": {},
   "outputs": [
    {
     "data": {
      "text/html": [
       "<div>\n",
       "<style scoped>\n",
       "    .dataframe tbody tr th:only-of-type {\n",
       "        vertical-align: middle;\n",
       "    }\n",
       "\n",
       "    .dataframe tbody tr th {\n",
       "        vertical-align: top;\n",
       "    }\n",
       "\n",
       "    .dataframe thead th {\n",
       "        text-align: right;\n",
       "    }\n",
       "</style>\n",
       "<table border=\"1\" class=\"dataframe\">\n",
       "  <thead>\n",
       "    <tr style=\"text-align: right;\">\n",
       "      <th></th>\n",
       "      <th>index</th>\n",
       "      <th>Dst Port</th>\n",
       "      <th>Protocol</th>\n",
       "      <th>Timestamp</th>\n",
       "      <th>Flow Duration</th>\n",
       "      <th>Tot Fwd Pkts</th>\n",
       "      <th>Tot Bwd Pkts</th>\n",
       "      <th>TotLen Fwd Pkts</th>\n",
       "      <th>TotLen Bwd Pkts</th>\n",
       "      <th>Fwd Pkt Len Max</th>\n",
       "      <th>...</th>\n",
       "      <th>Fwd Seg Size Min</th>\n",
       "      <th>Active Mean</th>\n",
       "      <th>Active Std</th>\n",
       "      <th>Active Max</th>\n",
       "      <th>Active Min</th>\n",
       "      <th>Idle Mean</th>\n",
       "      <th>Idle Std</th>\n",
       "      <th>Idle Max</th>\n",
       "      <th>Idle Min</th>\n",
       "      <th>Label</th>\n",
       "    </tr>\n",
       "  </thead>\n",
       "  <tbody>\n",
       "    <tr>\n",
       "      <th>0</th>\n",
       "      <td>1735335</td>\n",
       "      <td>3386</td>\n",
       "      <td>6</td>\n",
       "      <td>2018-02-28 01:00:00</td>\n",
       "      <td>529751</td>\n",
       "      <td>2</td>\n",
       "      <td>1</td>\n",
       "      <td>0</td>\n",
       "      <td>0.0</td>\n",
       "      <td>0</td>\n",
       "      <td>...</td>\n",
       "      <td>20</td>\n",
       "      <td>0.0</td>\n",
       "      <td>0.0</td>\n",
       "      <td>0.0</td>\n",
       "      <td>0.0</td>\n",
       "      <td>0.0</td>\n",
       "      <td>0.000000</td>\n",
       "      <td>0.0</td>\n",
       "      <td>0.0</td>\n",
       "      <td>Benign</td>\n",
       "    </tr>\n",
       "    <tr>\n",
       "      <th>1</th>\n",
       "      <td>1602978</td>\n",
       "      <td>53</td>\n",
       "      <td>17</td>\n",
       "      <td>2018-02-28 01:00:01</td>\n",
       "      <td>154058</td>\n",
       "      <td>1</td>\n",
       "      <td>1</td>\n",
       "      <td>40</td>\n",
       "      <td>167.0</td>\n",
       "      <td>40</td>\n",
       "      <td>...</td>\n",
       "      <td>8</td>\n",
       "      <td>0.0</td>\n",
       "      <td>0.0</td>\n",
       "      <td>0.0</td>\n",
       "      <td>0.0</td>\n",
       "      <td>0.0</td>\n",
       "      <td>0.000000</td>\n",
       "      <td>0.0</td>\n",
       "      <td>0.0</td>\n",
       "      <td>Benign</td>\n",
       "    </tr>\n",
       "    <tr>\n",
       "      <th>2</th>\n",
       "      <td>1747280</td>\n",
       "      <td>0</td>\n",
       "      <td>0</td>\n",
       "      <td>2018-02-28 01:00:01</td>\n",
       "      <td>112640736</td>\n",
       "      <td>3</td>\n",
       "      <td>0</td>\n",
       "      <td>0</td>\n",
       "      <td>0.0</td>\n",
       "      <td>0</td>\n",
       "      <td>...</td>\n",
       "      <td>0</td>\n",
       "      <td>0.0</td>\n",
       "      <td>0.0</td>\n",
       "      <td>0.0</td>\n",
       "      <td>0.0</td>\n",
       "      <td>56320368.0</td>\n",
       "      <td>18.384776</td>\n",
       "      <td>56320381.0</td>\n",
       "      <td>56320355.0</td>\n",
       "      <td>Benign</td>\n",
       "    </tr>\n",
       "    <tr>\n",
       "      <th>3</th>\n",
       "      <td>1589646</td>\n",
       "      <td>443</td>\n",
       "      <td>6</td>\n",
       "      <td>2018-02-28 01:00:01</td>\n",
       "      <td>782742</td>\n",
       "      <td>9</td>\n",
       "      <td>8</td>\n",
       "      <td>1818</td>\n",
       "      <td>3898.0</td>\n",
       "      <td>1078</td>\n",
       "      <td>...</td>\n",
       "      <td>20</td>\n",
       "      <td>0.0</td>\n",
       "      <td>0.0</td>\n",
       "      <td>0.0</td>\n",
       "      <td>0.0</td>\n",
       "      <td>0.0</td>\n",
       "      <td>0.000000</td>\n",
       "      <td>0.0</td>\n",
       "      <td>0.0</td>\n",
       "      <td>Benign</td>\n",
       "    </tr>\n",
       "    <tr>\n",
       "      <th>10</th>\n",
       "      <td>1614474</td>\n",
       "      <td>443</td>\n",
       "      <td>6</td>\n",
       "      <td>2018-02-28 01:00:02</td>\n",
       "      <td>2250028</td>\n",
       "      <td>11</td>\n",
       "      <td>12</td>\n",
       "      <td>2008</td>\n",
       "      <td>4434.0</td>\n",
       "      <td>1078</td>\n",
       "      <td>...</td>\n",
       "      <td>20</td>\n",
       "      <td>0.0</td>\n",
       "      <td>0.0</td>\n",
       "      <td>0.0</td>\n",
       "      <td>0.0</td>\n",
       "      <td>0.0</td>\n",
       "      <td>0.000000</td>\n",
       "      <td>0.0</td>\n",
       "      <td>0.0</td>\n",
       "      <td>Benign</td>\n",
       "    </tr>\n",
       "  </tbody>\n",
       "</table>\n",
       "<p>5 rows × 81 columns</p>\n",
       "</div>"
      ],
      "text/plain": [
       "      index Dst Port Protocol           Timestamp  Flow Duration  \\\n",
       "0   1735335     3386        6 2018-02-28 01:00:00         529751   \n",
       "1   1602978       53       17 2018-02-28 01:00:01         154058   \n",
       "2   1747280        0        0 2018-02-28 01:00:01      112640736   \n",
       "3   1589646      443        6 2018-02-28 01:00:01         782742   \n",
       "10  1614474      443        6 2018-02-28 01:00:02        2250028   \n",
       "\n",
       "    Tot Fwd Pkts  Tot Bwd Pkts  TotLen Fwd Pkts  TotLen Bwd Pkts  \\\n",
       "0              2             1                0              0.0   \n",
       "1              1             1               40            167.0   \n",
       "2              3             0                0              0.0   \n",
       "3              9             8             1818           3898.0   \n",
       "10            11            12             2008           4434.0   \n",
       "\n",
       "    Fwd Pkt Len Max  ...  Fwd Seg Size Min  Active Mean  Active Std  \\\n",
       "0                 0  ...                20          0.0         0.0   \n",
       "1                40  ...                 8          0.0         0.0   \n",
       "2                 0  ...                 0          0.0         0.0   \n",
       "3              1078  ...                20          0.0         0.0   \n",
       "10             1078  ...                20          0.0         0.0   \n",
       "\n",
       "    Active Max  Active Min   Idle Mean   Idle Std    Idle Max    Idle Min  \\\n",
       "0          0.0         0.0         0.0   0.000000         0.0         0.0   \n",
       "1          0.0         0.0         0.0   0.000000         0.0         0.0   \n",
       "2          0.0         0.0  56320368.0  18.384776  56320381.0  56320355.0   \n",
       "3          0.0         0.0         0.0   0.000000         0.0         0.0   \n",
       "10         0.0         0.0         0.0   0.000000         0.0         0.0   \n",
       "\n",
       "     Label  \n",
       "0   Benign  \n",
       "1   Benign  \n",
       "2   Benign  \n",
       "3   Benign  \n",
       "10  Benign  \n",
       "\n",
       "[5 rows x 81 columns]"
      ]
     },
     "execution_count": 20,
     "metadata": {},
     "output_type": "execute_result"
    }
   ],
   "source": [
    "df.head()"
   ]
  },
  {
   "cell_type": "code",
   "execution_count": null,
   "metadata": {},
   "outputs": [],
   "source": [
    "# todo:\n",
    "# more stats\n",
    "# plot timeline of events\n",
    "# determine what is a normal sequence vs not normal sequence and visualize if possible"
   ]
  },
  {
   "cell_type": "code",
   "execution_count": null,
   "metadata": {},
   "outputs": [],
   "source": [
    "# todo:\n",
    "# with the definition of a `normal sequence`, need to transform & process the data accordingly before training with LSTM\n",
    "# with the baseline algorithms for anomaly detection, should be fine to train with given data as-is"
   ]
  },
  {
   "cell_type": "code",
   "execution_count": null,
   "metadata": {},
   "outputs": [],
   "source": []
  }
 ],
 "metadata": {
  "accelerator": "TPU",
  "colab": {
   "collapsed_sections": [],
   "include_colab_link": true,
   "name": "Anomaly_Detection_LSTM_Data_Exploration.ipynb",
   "provenance": [],
   "toc_visible": true,
   "version": "0.3.2"
  },
  "kernelspec": {
   "display_name": "Python 3",
   "language": "python",
   "name": "python3"
  },
  "language_info": {
   "codemirror_mode": {
    "name": "ipython",
    "version": 3
   },
   "file_extension": ".py",
   "mimetype": "text/x-python",
   "name": "python",
   "nbconvert_exporter": "python",
   "pygments_lexer": "ipython3",
   "version": "3.6.7"
  }
 },
 "nbformat": 4,
 "nbformat_minor": 1
}
