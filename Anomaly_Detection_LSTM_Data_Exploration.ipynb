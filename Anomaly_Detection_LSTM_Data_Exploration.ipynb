{
 "cells": [
  {
   "cell_type": "markdown",
   "metadata": {
    "colab_type": "text",
    "id": "view-in-github"
   },
   "source": [
    "<a href=\"https://colab.research.google.com/github/jyonalee/Insider-Threat-and-Anomaly-Detection-from-User-Activities/blob/master/Anomaly_Detection_LSTM_Data_Exploration.ipynb\" target=\"_parent\"><img src=\"https://colab.research.google.com/assets/colab-badge.svg\" alt=\"Open In Colab\"/></a>"
   ]
  },
  {
   "cell_type": "code",
   "execution_count": null,
   "metadata": {
    "colab": {
     "base_uri": "https://localhost:8080/",
     "height": 700
    },
    "colab_type": "code",
    "id": "IN1DD_4ENdh3",
    "outputId": "7546edde-3f51-4058-93dc-b44ca2fddadd"
   },
   "outputs": [],
   "source": [
    "# install awscli to download the data\n",
    "!pip3 install awscli --upgrade --user\n",
    "\n",
    "# download data and save it on `data`\n",
    "!mkdir data\n",
    "!~/.local/bin/aws s3 sync --no-sign-request --region us-west-1 \"s3://cse-cic-ids2018/Processed Traffic Data for ML Algorithms/\" data/."
   ]
  },
  {
   "cell_type": "markdown",
   "metadata": {
    "colab_type": "text",
    "id": "SkKNa_ymcmhP"
   },
   "source": [
    "# Anomaly Detection with LSTM in Network Traffic Data"
   ]
  },
  {
   "cell_type": "markdown",
   "metadata": {
    "colab_type": "text",
    "id": "tKUEkeVGb2Iw"
   },
   "source": [
    "This project explores anomaly detection in network traffic with RNN-LSTM to train the model.\n",
    "\n",
    "The dataset can be obtained [here](https://www.unb.ca/cic/datasets/ids-2018.html)\n",
    "\n",
    "This is part of the capstone project for the Machine Learning Nano Degree from Udacity"
   ]
  },
  {
   "cell_type": "markdown",
   "metadata": {
    "colab_type": "text",
    "id": "5kTBtr-Ibisb"
   },
   "source": [
    "##Data Exploration\n",
    "\n",
    "---\n",
    "\n"
   ]
  },
  {
   "cell_type": "code",
   "execution_count": 1,
   "metadata": {
    "colab": {},
    "colab_type": "code",
    "id": "4Xgqhe0NXYdQ"
   },
   "outputs": [],
   "source": [
    "import pandas as pd\n",
    "import numpy as np\n",
    "import os\n",
    "import glob"
   ]
  },
  {
   "cell_type": "code",
   "execution_count": 2,
   "metadata": {
    "colab": {
     "base_uri": "https://localhost:8080/",
     "height": 173
    },
    "colab_type": "code",
    "id": "76_1DLJ5cjp5",
    "outputId": "04d6efa2-e8c6-4608-f8c5-66f7be708706"
   },
   "outputs": [
    {
     "name": "stderr",
     "output_type": "stream",
     "text": [
      "/home/jlee/miniconda3/lib/python3.6/site-packages/IPython/core/interactiveshell.py:3020: DtypeWarning: Columns (0,1,3,4,5,6,7,8,9,10,11,12,13,14,15,16,18,19,20,21,22,23,24,25,26,27,28,29,30,31,32,33,34,35,36,37,38,39,40,41,42,43,44,45,46,47,48,49,50,51,52,53,54,55,56,57,58,59,60,61,62,63,64,65,66,67,68,69,70,71,72,73,74,75,76,77,78) have mixed types. Specify dtype option on import or set low_memory=False.\n",
      "  interactivity=interactivity, compiler=compiler, result=result)\n",
      "/home/jlee/miniconda3/lib/python3.6/site-packages/IPython/core/interactiveshell.py:3020: DtypeWarning: Columns (0,1,3,4,5,6,7,8,9,10,11,12,13,14,15,16,17,18,19,20,21,22,23,24,25,26,27,28,29,30,31,32,33,34,35,36,37,38,39,40,41,42,43,44,45,46,47,48,49,50,51,52,53,54,55,56,57,58,59,60,61,62,63,64,65,66,67,68,69,70,71,72,73,74,75,76,77,78) have mixed types. Specify dtype option on import or set low_memory=False.\n",
      "  interactivity=interactivity, compiler=compiler, result=result)\n",
      "/home/jlee/miniconda3/lib/python3.6/site-packages/IPython/core/interactiveshell.py:3020: DtypeWarning: Columns (16,17) have mixed types. Specify dtype option on import or set low_memory=False.\n",
      "  interactivity=interactivity, compiler=compiler, result=result)\n",
      "/home/jlee/miniconda3/lib/python3.6/site-packages/IPython/core/interactiveshell.py:3020: DtypeWarning: Columns (16) have mixed types. Specify dtype option on import or set low_memory=False.\n",
      "  interactivity=interactivity, compiler=compiler, result=result)\n"
     ]
    }
   ],
   "source": [
    "# load data and do preliminary cleaning\n",
    "directory = '/home/jlee/cse-cic-ids2018/Processed Traffic Data for ML Algorithms'\n",
    "\n",
    "filepath = os.path.join(directory,'Thursday-01-03-2018_TrafficForML_CICFlowMeter.csv')\n",
    "df1 = pd.read_csv(filepath)\n",
    "df1 = df1[df1['Protocol'] != 'Protocol']\n",
    "filepath = os.path.join(directory,'Friday-16-02-2018_TrafficForML_CICFlowMeter.csv')\n",
    "df2 = pd.read_csv(filepath)\n",
    "df2 = df2[df2['Protocol'] != 'Protocol']\n",
    "filepath = os.path.join(directory,'Friday-02-03-2018_TrafficForML_CICFlowMeter.csv')\n",
    "df3 = pd.read_csv(filepath)\n",
    "filepath = os.path.join(directory,'Friday-23-02-2018_TrafficForML_CICFlowMeter.csv')\n",
    "df4 = pd.read_csv(filepath)\n",
    "filepath = os.path.join(directory,'Thursday-15-02-2018_TrafficForML_CICFlowMeter.csv')\n",
    "df5 = pd.read_csv(filepath)\n",
    "filepath = os.path.join(directory,'Wednesday-14-02-2018_TrafficForML_CICFlowMeter.csv')\n",
    "df6 = pd.read_csv(filepath)\n",
    "filepath = os.path.join(directory,'Thursday-22-02-2018_TrafficForML_CICFlowMeter.csv')\n",
    "df7 = pd.read_csv(filepath)\n",
    "filepath = os.path.join(directory,'Wednesday-28-02-2018_TrafficForML_CICFlowMeter.csv')\n",
    "df8 = pd.read_csv(filepath)\n",
    "df8 = df8[df8['Protocol'] != 'Protocol']\n",
    "filepath = os.path.join(directory,'Wednesday-21-02-2018_TrafficForML_CICFlowMeter.csv')\n",
    "df9 = pd.read_csv(filepath)\n"
   ]
  },
  {
   "cell_type": "code",
   "execution_count": 3,
   "metadata": {},
   "outputs": [],
   "source": [
    "# filepath = os.path.join(directory,'Thuesday-20-02-2018_TrafficForML_CICFlowMeter.csv')\n",
    "# df10 = pd.read_csv(filepath)\n",
    "# df10 = df10[df10['Protocol'] != 'Protocol']"
   ]
  },
  {
   "cell_type": "code",
   "execution_count": 4,
   "metadata": {
    "colab": {},
    "colab_type": "code",
    "id": "tom9WRWrXUFH"
   },
   "outputs": [],
   "source": [
    "df = pd.concat([df1,df2,df3,df4,df5,df6,df7,df8,df9], ignore_index=True)"
   ]
  },
  {
   "cell_type": "code",
   "execution_count": 5,
   "metadata": {
    "colab": {},
    "colab_type": "code",
    "id": "WsF4CSgi8na2"
   },
   "outputs": [],
   "source": [
    "# clean up intermediary dataframes to free memory\n",
    "del df1\n",
    "del df2\n",
    "del df3\n",
    "del df4\n",
    "del df5\n",
    "del df6\n",
    "del df7\n",
    "del df8\n",
    "del df9\n"
   ]
  },
  {
   "cell_type": "code",
   "execution_count": 6,
   "metadata": {},
   "outputs": [
    {
     "data": {
      "text/plain": [
       "8284195"
      ]
     },
     "execution_count": 6,
     "metadata": {},
     "output_type": "execute_result"
    }
   ],
   "source": [
    "len(df)"
   ]
  },
  {
   "cell_type": "code",
   "execution_count": 7,
   "metadata": {},
   "outputs": [
    {
     "name": "stdout",
     "output_type": "stream",
     "text": [
      "Benign                      6112151\n",
      "DDOS attack-HOIC             686012\n",
      "DoS attacks-Hulk             461912\n",
      "Bot                          286191\n",
      "FTP-BruteForce               193360\n",
      "SSH-Bruteforce               187589\n",
      "Infilteration                161934\n",
      "DoS attacks-SlowHTTPTest     139890\n",
      "DoS attacks-GoldenEye         41508\n",
      "DoS attacks-Slowloris         10990\n",
      "DDOS attack-LOIC-UDP           1730\n",
      "Brute Force -Web                611\n",
      "Brute Force -XSS                230\n",
      "SQL Injection                    87\n",
      "Name: Label, dtype: int64\n"
     ]
    }
   ],
   "source": [
    "# get count of each label\n",
    "print(df['Label'].value_counts())"
   ]
  },
  {
   "cell_type": "code",
   "execution_count": 8,
   "metadata": {},
   "outputs": [
    {
     "name": "stdout",
     "output_type": "stream",
     "text": [
      "Benign                      0.737809\n",
      "DDOS attack-HOIC            0.082810\n",
      "DoS attacks-Hulk            0.055758\n",
      "Bot                         0.034547\n",
      "FTP-BruteForce              0.023341\n",
      "SSH-Bruteforce              0.022644\n",
      "Infilteration               0.019547\n",
      "DoS attacks-SlowHTTPTest    0.016886\n",
      "DoS attacks-GoldenEye       0.005011\n",
      "DoS attacks-Slowloris       0.001327\n",
      "DDOS attack-LOIC-UDP        0.000209\n",
      "Brute Force -Web            0.000074\n",
      "Brute Force -XSS            0.000028\n",
      "SQL Injection               0.000011\n",
      "Name: Label, dtype: float64\n"
     ]
    }
   ],
   "source": [
    "# get distribution in of each label\n",
    "print(df['Label'].value_counts()/len(df))"
   ]
  },
  {
   "cell_type": "markdown",
   "metadata": {},
   "source": [
    "so in essence, 73.8% of data points in this dataset is 'Benign' while the rest are some form of malicious attack"
   ]
  },
  {
   "cell_type": "code",
   "execution_count": 14,
   "metadata": {},
   "outputs": [],
   "source": [
    "# todo:\n",
    "# more stats\n",
    "# plot timeline of events\n",
    "# determine what is a normal sequence vs not normal sequence and visualize if possible"
   ]
  },
  {
   "cell_type": "code",
   "execution_count": 15,
   "metadata": {},
   "outputs": [],
   "source": [
    "# todo:\n",
    "# with the definition of a `normal sequence`, need to transform & process the data accordingly before training with LSTM\n",
    "# with the baseline algorithms for anomaly detection, should be fine to train with given data as-is"
   ]
  },
  {
   "cell_type": "code",
   "execution_count": null,
   "metadata": {},
   "outputs": [],
   "source": []
  }
 ],
 "metadata": {
  "accelerator": "TPU",
  "colab": {
   "collapsed_sections": [],
   "include_colab_link": true,
   "name": "Anomaly_Detection_LSTM_Data_Exploration.ipynb",
   "provenance": [],
   "toc_visible": true,
   "version": "0.3.2"
  },
  "kernelspec": {
   "display_name": "Python 3",
   "language": "python",
   "name": "python3"
  },
  "language_info": {
   "codemirror_mode": {
    "name": "ipython",
    "version": 3
   },
   "file_extension": ".py",
   "mimetype": "text/x-python",
   "name": "python",
   "nbconvert_exporter": "python",
   "pygments_lexer": "ipython3",
   "version": "3.6.7"
  }
 },
 "nbformat": 4,
 "nbformat_minor": 1
}
