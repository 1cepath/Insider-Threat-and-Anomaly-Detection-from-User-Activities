{
  "nbformat": 4,
  "nbformat_minor": 0,
  "metadata": {
    "colab": {
      "name": "Anomaly_Detection_LSTM_Data_Exploration.ipynb",
      "version": "0.3.2",
      "provenance": [],
      "toc_visible": true,
      "include_colab_link": true
    },
    "kernelspec": {
      "name": "python3",
      "display_name": "Python 3"
    }
  },
  "cells": [
    {
      "cell_type": "markdown",
      "metadata": {
        "id": "view-in-github",
        "colab_type": "text"
      },
      "source": [
        "<a href=\"https://colab.research.google.com/github/jyonalee/Insider-Threat-and-Anomaly-Detection-from-User-Activities/blob/master/Anomaly_Detection_LSTM_Data_Exploration.ipynb\" target=\"_parent\"><img src=\"https://colab.research.google.com/assets/colab-badge.svg\" alt=\"Open In Colab\"/></a>"
      ]
    },
    {
      "metadata": {
        "id": "IN1DD_4ENdh3",
        "colab_type": "code",
        "outputId": "d54b7db0-16f0-42a0-cb32-ba8ccd17f57e",
        "colab": {
          "base_uri": "https://localhost:8080/",
          "height": 241
        }
      },
      "cell_type": "code",
      "source": [
        "!pip3 install awscli --upgrade --user"
      ],
      "execution_count": 0,
      "outputs": [
        {
          "output_type": "stream",
          "text": [
            "Requirement already up-to-date: awscli in /root/.local/lib/python3.6/site-packages (1.16.114)\n",
            "Requirement already satisfied, skipping upgrade: rsa<=3.5.0,>=3.1.2 in /root/.local/lib/python3.6/site-packages (from awscli) (3.4.2)\n",
            "Requirement already satisfied, skipping upgrade: botocore==1.12.104 in /root/.local/lib/python3.6/site-packages (from awscli) (1.12.104)\n",
            "Requirement already satisfied, skipping upgrade: s3transfer<0.3.0,>=0.2.0 in /usr/local/lib/python3.6/dist-packages (from awscli) (0.2.0)\n",
            "Requirement already satisfied, skipping upgrade: colorama<=0.3.9,>=0.2.5 in /root/.local/lib/python3.6/site-packages (from awscli) (0.3.9)\n",
            "Requirement already satisfied, skipping upgrade: PyYAML<=3.13,>=3.10 in /usr/local/lib/python3.6/dist-packages (from awscli) (3.13)\n",
            "Requirement already satisfied, skipping upgrade: docutils>=0.10 in /usr/local/lib/python3.6/dist-packages (from awscli) (0.14)\n",
            "Requirement already satisfied, skipping upgrade: pyasn1>=0.1.3 in /usr/local/lib/python3.6/dist-packages (from rsa<=3.5.0,>=3.1.2->awscli) (0.4.5)\n",
            "Requirement already satisfied, skipping upgrade: jmespath<1.0.0,>=0.7.1 in /usr/local/lib/python3.6/dist-packages (from botocore==1.12.104->awscli) (0.9.4)\n",
            "Requirement already satisfied, skipping upgrade: urllib3<1.25,>=1.20; python_version >= \"3.4\" in /usr/local/lib/python3.6/dist-packages (from botocore==1.12.104->awscli) (1.22)\n",
            "Requirement already satisfied, skipping upgrade: python-dateutil<3.0.0,>=2.1; python_version >= \"2.7\" in /usr/local/lib/python3.6/dist-packages (from botocore==1.12.104->awscli) (2.5.3)\n",
            "Requirement already satisfied, skipping upgrade: six>=1.5 in /usr/local/lib/python3.6/dist-packages (from python-dateutil<3.0.0,>=2.1; python_version >= \"2.7\"->botocore==1.12.104->awscli) (1.11.0)\n"
          ],
          "name": "stdout"
        }
      ]
    },
    {
      "metadata": {
        "id": "zRuhBrlnP3xY",
        "colab_type": "code",
        "outputId": "579758da-4c64-4611-92de-fbfc0ecbeebb",
        "colab": {
          "base_uri": "https://localhost:8080/",
          "height": 207
        }
      },
      "cell_type": "code",
      "source": [
        "!mkdir data\n",
        "!~/.local/bin/aws s3 sync --no-sign-request --region us-west-1 \"s3://cse-cic-ids2018/Processed Traffic Data for ML Algorithms/\" data/."
      ],
      "execution_count": 0,
      "outputs": [
        {
          "output_type": "stream",
          "text": [
            "download: s3://cse-cic-ids2018/Processed Traffic Data for ML Algorithms/Thursday-01-03-2018_TrafficForML_CICFlowMeter.csv to ./Thursday-01-03-2018_TrafficForML_CICFlowMeter.csv\n",
            "download: s3://cse-cic-ids2018/Processed Traffic Data for ML Algorithms/Thursday-15-02-2018_TrafficForML_CICFlowMeter.csv to ./Thursday-15-02-2018_TrafficForML_CICFlowMeter.csv\n",
            "download: s3://cse-cic-ids2018/Processed Traffic Data for ML Algorithms/Friday-02-03-2018_TrafficForML_CICFlowMeter.csv to ./Friday-02-03-2018_TrafficForML_CICFlowMeter.csv\n",
            "download: s3://cse-cic-ids2018/Processed Traffic Data for ML Algorithms/Friday-23-02-2018_TrafficForML_CICFlowMeter.csv to ./Friday-23-02-2018_TrafficForML_CICFlowMeter.csv\n",
            "download: s3://cse-cic-ids2018/Processed Traffic Data for ML Algorithms/Friday-16-02-2018_TrafficForML_CICFlowMeter.csv to ./Friday-16-02-2018_TrafficForML_CICFlowMeter.csv\n",
            "download: s3://cse-cic-ids2018/Processed Traffic Data for ML Algorithms/Wednesday-21-02-2018_TrafficForML_CICFlowMeter.csv to ./Wednesday-21-02-2018_TrafficForML_CICFlowMeter.csv\n",
            "download: s3://cse-cic-ids2018/Processed Traffic Data for ML Algorithms/Thursday-22-02-2018_TrafficForML_CICFlowMeter.csv to ./Thursday-22-02-2018_TrafficForML_CICFlowMeter.csv\n",
            "download: s3://cse-cic-ids2018/Processed Traffic Data for ML Algorithms/Wednesday-28-02-2018_TrafficForML_CICFlowMeter.csv to ./Wednesday-28-02-2018_TrafficForML_CICFlowMeter.csv\n",
            "download: s3://cse-cic-ids2018/Processed Traffic Data for ML Algorithms/Wednesday-14-02-2018_TrafficForML_CICFlowMeter.csv to ./Wednesday-14-02-2018_TrafficForML_CICFlowMeter.csv\n",
            "download: s3://cse-cic-ids2018/Processed Traffic Data for ML Algorithms/Thuesday-20-02-2018_TrafficForML_CICFlowMeter.csv to ./Thuesday-20-02-2018_TrafficForML_CICFlowMeter.csv\n"
          ],
          "name": "stdout"
        }
      ]
    },
    {
      "metadata": {
        "id": "1tmOeuhUoYk3",
        "colab_type": "code",
        "outputId": "56295ed9-14d2-4174-eb8a-2dde3f946e2d",
        "colab": {
          "base_uri": "https://localhost:8080/",
          "height": 63
        }
      },
      "cell_type": "code",
      "source": [
        "!~/.local/bin/aws s3 cp --no-sign-request --region us-west-1 \"s3://cse-cic-ids2018/Original Network Traffic and Log data/Thursday-15-02-2018/pcap.zip\" /content/."
      ],
      "execution_count": 0,
      "outputs": [
        {
          "output_type": "stream",
          "text": [
            "fatal error:                                                        \n"
          ],
          "name": "stdout"
        }
      ]
    },
    {
      "metadata": {
        "id": "fdLmMdHdpwtn",
        "colab_type": "code",
        "outputId": "ffa43fd7-39c3-445b-c409-fcc267c6f1d9",
        "colab": {
          "base_uri": "https://localhost:8080/",
          "height": 34
        }
      },
      "cell_type": "code",
      "source": [
        "\n",
        "#!tail -n 100 logs/EC2AMAZ-O4EL3NG-172.31.64.100.evtx\n",
        "!du logs"
      ],
      "execution_count": 0,
      "outputs": [
        {
          "output_type": "stream",
          "text": [
            "1652656\tlogs\n"
          ],
          "name": "stdout"
        }
      ]
    },
    {
      "metadata": {
        "id": "SkKNa_ymcmhP",
        "colab_type": "text"
      },
      "cell_type": "markdown",
      "source": [
        "# Anomaly Detection with LSTM in Network Traffic Data"
      ]
    },
    {
      "metadata": {
        "id": "tKUEkeVGb2Iw",
        "colab_type": "text"
      },
      "cell_type": "markdown",
      "source": [
        "This project explores anomaly detection in network traffic with RNN-LSTM to train the model.\n",
        "\n",
        "The dataset can be obtained [here](https://www.unb.ca/cic/datasets/ids-2018.html)\n",
        "\n",
        "This is part of the capstone project for the Machine Learning Nano Degree from Udacity"
      ]
    },
    {
      "metadata": {
        "id": "5kTBtr-Ibisb",
        "colab_type": "text"
      },
      "cell_type": "markdown",
      "source": [
        "##Data Exploration\n",
        "\n",
        "---\n",
        "\n"
      ]
    },
    {
      "metadata": {
        "id": "4Xgqhe0NXYdQ",
        "colab_type": "code",
        "outputId": "ad47a3d8-442c-4f98-a553-629897b45c84",
        "colab": {
          "base_uri": "https://localhost:8080/",
          "height": 71
        }
      },
      "cell_type": "code",
      "source": [
        "import pandas as pd\n",
        "\n",
        "network_data = pd.read_csv('/content/data/Thursday-15-02-2018_TrafficForML_CICFlowMeter.csv')"
      ],
      "execution_count": 0,
      "outputs": [
        {
          "output_type": "stream",
          "text": [
            "/usr/local/lib/python3.6/dist-packages/IPython/core/interactiveshell.py:2718: DtypeWarning: Columns (16,17) have mixed types. Specify dtype option on import or set low_memory=False.\n",
            "  interactivity=interactivity, compiler=compiler, result=result)\n"
          ],
          "name": "stderr"
        }
      ]
    },
    {
      "metadata": {
        "id": "76_1DLJ5cjp5",
        "colab_type": "code",
        "outputId": "9ef2a263-cef7-461b-e4a5-c25658db2d00",
        "colab": {
          "base_uri": "https://localhost:8080/",
          "height": 389
        }
      },
      "cell_type": "code",
      "source": [
        "network_data.head()"
      ],
      "execution_count": 0,
      "outputs": [
        {
          "output_type": "execute_result",
          "data": {
            "text/html": [
              "<div>\n",
              "<style scoped>\n",
              "    .dataframe tbody tr th:only-of-type {\n",
              "        vertical-align: middle;\n",
              "    }\n",
              "\n",
              "    .dataframe tbody tr th {\n",
              "        vertical-align: top;\n",
              "    }\n",
              "\n",
              "    .dataframe thead th {\n",
              "        text-align: right;\n",
              "    }\n",
              "</style>\n",
              "<table border=\"1\" class=\"dataframe\">\n",
              "  <thead>\n",
              "    <tr style=\"text-align: right;\">\n",
              "      <th></th>\n",
              "      <th>Dst Port</th>\n",
              "      <th>Protocol</th>\n",
              "      <th>Timestamp</th>\n",
              "      <th>Flow Duration</th>\n",
              "      <th>Tot Fwd Pkts</th>\n",
              "      <th>Tot Bwd Pkts</th>\n",
              "      <th>TotLen Fwd Pkts</th>\n",
              "      <th>TotLen Bwd Pkts</th>\n",
              "      <th>Fwd Pkt Len Max</th>\n",
              "      <th>Fwd Pkt Len Min</th>\n",
              "      <th>...</th>\n",
              "      <th>Fwd Seg Size Min</th>\n",
              "      <th>Active Mean</th>\n",
              "      <th>Active Std</th>\n",
              "      <th>Active Max</th>\n",
              "      <th>Active Min</th>\n",
              "      <th>Idle Mean</th>\n",
              "      <th>Idle Std</th>\n",
              "      <th>Idle Max</th>\n",
              "      <th>Idle Min</th>\n",
              "      <th>Label</th>\n",
              "    </tr>\n",
              "  </thead>\n",
              "  <tbody>\n",
              "    <tr>\n",
              "      <th>0</th>\n",
              "      <td>0</td>\n",
              "      <td>0</td>\n",
              "      <td>15/02/2018 08:25:18</td>\n",
              "      <td>112641158</td>\n",
              "      <td>3</td>\n",
              "      <td>0</td>\n",
              "      <td>0</td>\n",
              "      <td>0</td>\n",
              "      <td>0</td>\n",
              "      <td>0</td>\n",
              "      <td>...</td>\n",
              "      <td>0</td>\n",
              "      <td>0.0</td>\n",
              "      <td>0.000000</td>\n",
              "      <td>0</td>\n",
              "      <td>0</td>\n",
              "      <td>56320579.0</td>\n",
              "      <td>7.042784e+02</td>\n",
              "      <td>56321077</td>\n",
              "      <td>56320081</td>\n",
              "      <td>Benign</td>\n",
              "    </tr>\n",
              "    <tr>\n",
              "      <th>1</th>\n",
              "      <td>22</td>\n",
              "      <td>6</td>\n",
              "      <td>15/02/2018 08:29:05</td>\n",
              "      <td>37366762</td>\n",
              "      <td>14</td>\n",
              "      <td>12</td>\n",
              "      <td>2168</td>\n",
              "      <td>2993</td>\n",
              "      <td>712</td>\n",
              "      <td>0</td>\n",
              "      <td>...</td>\n",
              "      <td>32</td>\n",
              "      <td>1024353.0</td>\n",
              "      <td>649038.754495</td>\n",
              "      <td>1601183</td>\n",
              "      <td>321569</td>\n",
              "      <td>11431221.0</td>\n",
              "      <td>3.644991e+06</td>\n",
              "      <td>15617415</td>\n",
              "      <td>8960247</td>\n",
              "      <td>Benign</td>\n",
              "    </tr>\n",
              "    <tr>\n",
              "      <th>2</th>\n",
              "      <td>47514</td>\n",
              "      <td>6</td>\n",
              "      <td>15/02/2018 08:29:42</td>\n",
              "      <td>543</td>\n",
              "      <td>2</td>\n",
              "      <td>0</td>\n",
              "      <td>64</td>\n",
              "      <td>0</td>\n",
              "      <td>64</td>\n",
              "      <td>0</td>\n",
              "      <td>...</td>\n",
              "      <td>32</td>\n",
              "      <td>0.0</td>\n",
              "      <td>0.000000</td>\n",
              "      <td>0</td>\n",
              "      <td>0</td>\n",
              "      <td>0.0</td>\n",
              "      <td>0.000000e+00</td>\n",
              "      <td>0</td>\n",
              "      <td>0</td>\n",
              "      <td>Benign</td>\n",
              "    </tr>\n",
              "    <tr>\n",
              "      <th>3</th>\n",
              "      <td>0</td>\n",
              "      <td>0</td>\n",
              "      <td>15/02/2018 08:28:07</td>\n",
              "      <td>112640703</td>\n",
              "      <td>3</td>\n",
              "      <td>0</td>\n",
              "      <td>0</td>\n",
              "      <td>0</td>\n",
              "      <td>0</td>\n",
              "      <td>0</td>\n",
              "      <td>...</td>\n",
              "      <td>0</td>\n",
              "      <td>0.0</td>\n",
              "      <td>0.000000</td>\n",
              "      <td>0</td>\n",
              "      <td>0</td>\n",
              "      <td>56320351.5</td>\n",
              "      <td>3.669884e+02</td>\n",
              "      <td>56320611</td>\n",
              "      <td>56320092</td>\n",
              "      <td>Benign</td>\n",
              "    </tr>\n",
              "    <tr>\n",
              "      <th>4</th>\n",
              "      <td>0</td>\n",
              "      <td>0</td>\n",
              "      <td>15/02/2018 08:30:56</td>\n",
              "      <td>112640874</td>\n",
              "      <td>3</td>\n",
              "      <td>0</td>\n",
              "      <td>0</td>\n",
              "      <td>0</td>\n",
              "      <td>0</td>\n",
              "      <td>0</td>\n",
              "      <td>...</td>\n",
              "      <td>0</td>\n",
              "      <td>0.0</td>\n",
              "      <td>0.000000</td>\n",
              "      <td>0</td>\n",
              "      <td>0</td>\n",
              "      <td>56320437.0</td>\n",
              "      <td>7.198347e+02</td>\n",
              "      <td>56320946</td>\n",
              "      <td>56319928</td>\n",
              "      <td>Benign</td>\n",
              "    </tr>\n",
              "  </tbody>\n",
              "</table>\n",
              "<p>5 rows × 80 columns</p>\n",
              "</div>"
            ],
            "text/plain": [
              "   Dst Port  Protocol            Timestamp  Flow Duration  Tot Fwd Pkts  \\\n",
              "0         0         0  15/02/2018 08:25:18      112641158             3   \n",
              "1        22         6  15/02/2018 08:29:05       37366762            14   \n",
              "2     47514         6  15/02/2018 08:29:42            543             2   \n",
              "3         0         0  15/02/2018 08:28:07      112640703             3   \n",
              "4         0         0  15/02/2018 08:30:56      112640874             3   \n",
              "\n",
              "   Tot Bwd Pkts  TotLen Fwd Pkts  TotLen Bwd Pkts  Fwd Pkt Len Max  \\\n",
              "0             0                0                0                0   \n",
              "1            12             2168             2993              712   \n",
              "2             0               64                0               64   \n",
              "3             0                0                0                0   \n",
              "4             0                0                0                0   \n",
              "\n",
              "   Fwd Pkt Len Min   ...    Fwd Seg Size Min  Active Mean     Active Std  \\\n",
              "0                0   ...                   0          0.0       0.000000   \n",
              "1                0   ...                  32    1024353.0  649038.754495   \n",
              "2                0   ...                  32          0.0       0.000000   \n",
              "3                0   ...                   0          0.0       0.000000   \n",
              "4                0   ...                   0          0.0       0.000000   \n",
              "\n",
              "   Active Max  Active Min   Idle Mean      Idle Std  Idle Max  Idle Min  \\\n",
              "0           0           0  56320579.0  7.042784e+02  56321077  56320081   \n",
              "1     1601183      321569  11431221.0  3.644991e+06  15617415   8960247   \n",
              "2           0           0         0.0  0.000000e+00         0         0   \n",
              "3           0           0  56320351.5  3.669884e+02  56320611  56320092   \n",
              "4           0           0  56320437.0  7.198347e+02  56320946  56319928   \n",
              "\n",
              "    Label  \n",
              "0  Benign  \n",
              "1  Benign  \n",
              "2  Benign  \n",
              "3  Benign  \n",
              "4  Benign  \n",
              "\n",
              "[5 rows x 80 columns]"
            ]
          },
          "metadata": {
            "tags": []
          },
          "execution_count": 2
        }
      ]
    },
    {
      "metadata": {
        "id": "sKFEO0dx-Jxs",
        "colab_type": "code",
        "outputId": "684da847-78ee-4c04-e7f1-ecea5d6972c2",
        "colab": {
          "base_uri": "https://localhost:8080/",
          "height": 1377
        }
      },
      "cell_type": "code",
      "source": [
        "list(network_data)"
      ],
      "execution_count": 0,
      "outputs": [
        {
          "output_type": "execute_result",
          "data": {
            "text/plain": [
              "['Dst Port',\n",
              " 'Protocol',\n",
              " 'Timestamp',\n",
              " 'Flow Duration',\n",
              " 'Tot Fwd Pkts',\n",
              " 'Tot Bwd Pkts',\n",
              " 'TotLen Fwd Pkts',\n",
              " 'TotLen Bwd Pkts',\n",
              " 'Fwd Pkt Len Max',\n",
              " 'Fwd Pkt Len Min',\n",
              " 'Fwd Pkt Len Mean',\n",
              " 'Fwd Pkt Len Std',\n",
              " 'Bwd Pkt Len Max',\n",
              " 'Bwd Pkt Len Min',\n",
              " 'Bwd Pkt Len Mean',\n",
              " 'Bwd Pkt Len Std',\n",
              " 'Flow Byts/s',\n",
              " 'Flow Pkts/s',\n",
              " 'Flow IAT Mean',\n",
              " 'Flow IAT Std',\n",
              " 'Flow IAT Max',\n",
              " 'Flow IAT Min',\n",
              " 'Fwd IAT Tot',\n",
              " 'Fwd IAT Mean',\n",
              " 'Fwd IAT Std',\n",
              " 'Fwd IAT Max',\n",
              " 'Fwd IAT Min',\n",
              " 'Bwd IAT Tot',\n",
              " 'Bwd IAT Mean',\n",
              " 'Bwd IAT Std',\n",
              " 'Bwd IAT Max',\n",
              " 'Bwd IAT Min',\n",
              " 'Fwd PSH Flags',\n",
              " 'Bwd PSH Flags',\n",
              " 'Fwd URG Flags',\n",
              " 'Bwd URG Flags',\n",
              " 'Fwd Header Len',\n",
              " 'Bwd Header Len',\n",
              " 'Fwd Pkts/s',\n",
              " 'Bwd Pkts/s',\n",
              " 'Pkt Len Min',\n",
              " 'Pkt Len Max',\n",
              " 'Pkt Len Mean',\n",
              " 'Pkt Len Std',\n",
              " 'Pkt Len Var',\n",
              " 'FIN Flag Cnt',\n",
              " 'SYN Flag Cnt',\n",
              " 'RST Flag Cnt',\n",
              " 'PSH Flag Cnt',\n",
              " 'ACK Flag Cnt',\n",
              " 'URG Flag Cnt',\n",
              " 'CWE Flag Count',\n",
              " 'ECE Flag Cnt',\n",
              " 'Down/Up Ratio',\n",
              " 'Pkt Size Avg',\n",
              " 'Fwd Seg Size Avg',\n",
              " 'Bwd Seg Size Avg',\n",
              " 'Fwd Byts/b Avg',\n",
              " 'Fwd Pkts/b Avg',\n",
              " 'Fwd Blk Rate Avg',\n",
              " 'Bwd Byts/b Avg',\n",
              " 'Bwd Pkts/b Avg',\n",
              " 'Bwd Blk Rate Avg',\n",
              " 'Subflow Fwd Pkts',\n",
              " 'Subflow Fwd Byts',\n",
              " 'Subflow Bwd Pkts',\n",
              " 'Subflow Bwd Byts',\n",
              " 'Init Fwd Win Byts',\n",
              " 'Init Bwd Win Byts',\n",
              " 'Fwd Act Data Pkts',\n",
              " 'Fwd Seg Size Min',\n",
              " 'Active Mean',\n",
              " 'Active Std',\n",
              " 'Active Max',\n",
              " 'Active Min',\n",
              " 'Idle Mean',\n",
              " 'Idle Std',\n",
              " 'Idle Max',\n",
              " 'Idle Min',\n",
              " 'Label']"
            ]
          },
          "metadata": {
            "tags": []
          },
          "execution_count": 3
        }
      ]
    },
    {
      "metadata": {
        "id": "noXa42Y8dkxc",
        "colab_type": "code",
        "outputId": "a9816d19-51a2-4177-ffdb-acad39cc2cc3",
        "colab": {
          "base_uri": "https://localhost:8080/",
          "height": 102
        }
      },
      "cell_type": "code",
      "source": [
        "!git clone https://github.com/williballenthin/python-evtx.git"
      ],
      "execution_count": 0,
      "outputs": [
        {
          "output_type": "stream",
          "text": [
            "Cloning into 'python-evtx'...\n",
            "remote: Enumerating objects: 1499, done.\u001b[K\n",
            "remote: Total 1499 (delta 0), reused 0 (delta 0), pack-reused 1499\u001b[K\n",
            "Receiving objects: 100% (1499/1499), 3.17 MiB | 7.61 MiB/s, done.\n",
            "Resolving deltas: 100% (887/887), done.\n"
          ],
          "name": "stdout"
        }
      ]
    },
    {
      "metadata": {
        "id": "-rjj7bOs1gag",
        "colab_type": "code",
        "colab": {}
      },
      "cell_type": "code",
      "source": [
        "\n",
        "!python3 python-evtx/scripts/evtx_dump.py /content/logs/EC2AMAZ-O4EL3NG-172.31.64.100.evtx > ec2AMAZ-O4EL3NG-172.31.64.100.xml"
      ],
      "execution_count": 0,
      "outputs": []
    },
    {
      "metadata": {
        "id": "Rw4N_XCA2WEV",
        "colab_type": "code",
        "colab": {}
      },
      "cell_type": "code",
      "source": [
        ""
      ],
      "execution_count": 0,
      "outputs": []
    }
  ]
}