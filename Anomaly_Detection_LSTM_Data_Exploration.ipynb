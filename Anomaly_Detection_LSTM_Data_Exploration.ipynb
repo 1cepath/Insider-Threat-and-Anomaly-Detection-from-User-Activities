{
  "nbformat": 4,
  "nbformat_minor": 0,
  "metadata": {
    "colab": {
      "name": "Anomaly_Detection_LSTM_Data_Exploration.ipynb",
      "version": "0.3.2",
      "provenance": [],
      "collapsed_sections": [],
      "toc_visible": true,
      "include_colab_link": true
    },
    "kernelspec": {
      "name": "python3",
      "display_name": "Python 3"
    },
    "accelerator": "TPU"
  },
  "cells": [
    {
      "cell_type": "markdown",
      "metadata": {
        "id": "view-in-github",
        "colab_type": "text"
      },
      "source": [
        "<a href=\"https://colab.research.google.com/github/jyonalee/Insider-Threat-and-Anomaly-Detection-from-User-Activities/blob/master/Anomaly_Detection_LSTM_Data_Exploration.ipynb\" target=\"_parent\"><img src=\"https://colab.research.google.com/assets/colab-badge.svg\" alt=\"Open In Colab\"/></a>"
      ]
    },
    {
      "metadata": {
        "id": "IN1DD_4ENdh3",
        "colab_type": "code",
        "outputId": "7546edde-3f51-4058-93dc-b44ca2fddadd",
        "colab": {
          "base_uri": "https://localhost:8080/",
          "height": 700
        }
      },
      "cell_type": "code",
      "source": [
        "# install awscli to download the data\n",
        "!pip3 install awscli --upgrade --user\n",
        "\n",
        "# download data and save it on `data`\n",
        "!mkdir data\n",
        "!~/.local/bin/aws s3 sync --no-sign-request --region us-west-1 \"s3://cse-cic-ids2018/Processed Traffic Data for ML Algorithms/\" data/."
      ],
      "execution_count": 1,
      "outputs": [
        {
          "output_type": "stream",
          "text": [
            "Collecting awscli\n",
            "\u001b[?25l  Downloading https://files.pythonhosted.org/packages/16/d1/43232fc0661b771c3a9a29c6518263217b2966a506b871cc0290c3e52c62/awscli-1.16.121-py2.py3-none-any.whl (1.5MB)\n",
            "\u001b[K    100% |████████████████████████████████| 1.5MB 10.8MB/s \n",
            "\u001b[?25hRequirement already satisfied, skipping upgrade: docutils>=0.10 in /usr/local/lib/python3.6/dist-packages (from awscli) (0.14)\n",
            "Requirement already satisfied, skipping upgrade: PyYAML<=3.13,>=3.10 in /usr/local/lib/python3.6/dist-packages (from awscli) (3.13)\n",
            "Collecting botocore==1.12.111 (from awscli)\n",
            "\u001b[?25l  Downloading https://files.pythonhosted.org/packages/58/dc/a1e204bd358e45d8e921a70882d5641eaf8890335dd80a210488076fc4dc/botocore-1.12.111-py2.py3-none-any.whl (5.3MB)\n",
            "\u001b[K    100% |████████████████████████████████| 5.3MB 5.0MB/s \n",
            "\u001b[?25hCollecting colorama<=0.3.9,>=0.2.5 (from awscli)\n",
            "  Downloading https://files.pythonhosted.org/packages/db/c8/7dcf9dbcb22429512708fe3a547f8b6101c0d02137acbd892505aee57adf/colorama-0.3.9-py2.py3-none-any.whl\n",
            "Requirement already satisfied, skipping upgrade: s3transfer<0.3.0,>=0.2.0 in /usr/local/lib/python3.6/dist-packages (from awscli) (0.2.0)\n",
            "Collecting rsa<=3.5.0,>=3.1.2 (from awscli)\n",
            "\u001b[?25l  Downloading https://files.pythonhosted.org/packages/e1/ae/baedc9cb175552e95f3395c43055a6a5e125ae4d48a1d7a924baca83e92e/rsa-3.4.2-py2.py3-none-any.whl (46kB)\n",
            "\u001b[K    100% |████████████████████████████████| 51kB 18.8MB/s \n",
            "\u001b[?25hRequirement already satisfied, skipping upgrade: jmespath<1.0.0,>=0.7.1 in /usr/local/lib/python3.6/dist-packages (from botocore==1.12.111->awscli) (0.9.4)\n",
            "Requirement already satisfied, skipping upgrade: python-dateutil<3.0.0,>=2.1; python_version >= \"2.7\" in /usr/local/lib/python3.6/dist-packages (from botocore==1.12.111->awscli) (2.5.3)\n",
            "Requirement already satisfied, skipping upgrade: urllib3<1.25,>=1.20; python_version >= \"3.4\" in /usr/local/lib/python3.6/dist-packages (from botocore==1.12.111->awscli) (1.22)\n",
            "Requirement already satisfied, skipping upgrade: pyasn1>=0.1.3 in /usr/local/lib/python3.6/dist-packages (from rsa<=3.5.0,>=3.1.2->awscli) (0.4.5)\n",
            "Requirement already satisfied, skipping upgrade: six>=1.5 in /usr/local/lib/python3.6/dist-packages (from python-dateutil<3.0.0,>=2.1; python_version >= \"2.7\"->botocore==1.12.111->awscli) (1.11.0)\n",
            "\u001b[31mfeaturetools 0.4.1 has requirement pandas>=0.23.0, but you'll have pandas 0.22.0 which is incompatible.\u001b[0m\n",
            "Installing collected packages: botocore, colorama, rsa, awscli\n",
            "\u001b[33m  The scripts pyrsa-decrypt, pyrsa-decrypt-bigfile, pyrsa-encrypt, pyrsa-encrypt-bigfile, pyrsa-keygen, pyrsa-priv2pub, pyrsa-sign and pyrsa-verify are installed in '/root/.local/bin' which is not on PATH.\n",
            "  Consider adding this directory to PATH or, if you prefer to suppress this warning, use --no-warn-script-location.\u001b[0m\n",
            "Successfully installed awscli-1.16.121 botocore-1.12.111 colorama-0.3.9 rsa-3.4.2\n"
          ],
          "name": "stdout"
        },
        {
          "output_type": "display_data",
          "data": {
            "application/vnd.colab-display-data+json": {
              "pip_warning": {
                "packages": [
                  "rsa"
                ]
              }
            }
          },
          "metadata": {
            "tags": []
          }
        },
        {
          "output_type": "stream",
          "text": [
            "download: s3://cse-cic-ids2018/Processed Traffic Data for ML Algorithms/Thursday-01-03-2018_TrafficForML_CICFlowMeter.csv to data/Thursday-01-03-2018_TrafficForML_CICFlowMeter.csv\n",
            "download: s3://cse-cic-ids2018/Processed Traffic Data for ML Algorithms/Friday-02-03-2018_TrafficForML_CICFlowMeter.csv to data/Friday-02-03-2018_TrafficForML_CICFlowMeter.csv\n",
            "download: s3://cse-cic-ids2018/Processed Traffic Data for ML Algorithms/Friday-16-02-2018_TrafficForML_CICFlowMeter.csv to data/Friday-16-02-2018_TrafficForML_CICFlowMeter.csv\n",
            "download: s3://cse-cic-ids2018/Processed Traffic Data for ML Algorithms/Friday-23-02-2018_TrafficForML_CICFlowMeter.csv to data/Friday-23-02-2018_TrafficForML_CICFlowMeter.csv\n",
            "download: s3://cse-cic-ids2018/Processed Traffic Data for ML Algorithms/Wednesday-21-02-2018_TrafficForML_CICFlowMeter.csv to data/Wednesday-21-02-2018_TrafficForML_CICFlowMeter.csv\n",
            "download: s3://cse-cic-ids2018/Processed Traffic Data for ML Algorithms/Thursday-22-02-2018_TrafficForML_CICFlowMeter.csv to data/Thursday-22-02-2018_TrafficForML_CICFlowMeter.csv\n",
            "download: s3://cse-cic-ids2018/Processed Traffic Data for ML Algorithms/Thursday-15-02-2018_TrafficForML_CICFlowMeter.csv to data/Thursday-15-02-2018_TrafficForML_CICFlowMeter.csv\n",
            "download: s3://cse-cic-ids2018/Processed Traffic Data for ML Algorithms/Wednesday-14-02-2018_TrafficForML_CICFlowMeter.csv to data/Wednesday-14-02-2018_TrafficForML_CICFlowMeter.csv\n",
            "download: s3://cse-cic-ids2018/Processed Traffic Data for ML Algorithms/Wednesday-28-02-2018_TrafficForML_CICFlowMeter.csv to data/Wednesday-28-02-2018_TrafficForML_CICFlowMeter.csv\n",
            "download: s3://cse-cic-ids2018/Processed Traffic Data for ML Algorithms/Thuesday-20-02-2018_TrafficForML_CICFlowMeter.csv to data/Thuesday-20-02-2018_TrafficForML_CICFlowMeter.csv\n"
          ],
          "name": "stdout"
        }
      ]
    },
    {
      "metadata": {
        "id": "SkKNa_ymcmhP",
        "colab_type": "text"
      },
      "cell_type": "markdown",
      "source": [
        "# Anomaly Detection with LSTM in Network Traffic Data"
      ]
    },
    {
      "metadata": {
        "id": "tKUEkeVGb2Iw",
        "colab_type": "text"
      },
      "cell_type": "markdown",
      "source": [
        "This project explores anomaly detection in network traffic with RNN-LSTM to train the model.\n",
        "\n",
        "The dataset can be obtained [here](https://www.unb.ca/cic/datasets/ids-2018.html)\n",
        "\n",
        "This is part of the capstone project for the Machine Learning Nano Degree from Udacity"
      ]
    },
    {
      "metadata": {
        "id": "5kTBtr-Ibisb",
        "colab_type": "text"
      },
      "cell_type": "markdown",
      "source": [
        "##Data Exploration\n",
        "\n",
        "---\n",
        "\n"
      ]
    },
    {
      "metadata": {
        "id": "4Xgqhe0NXYdQ",
        "colab_type": "code",
        "colab": {}
      },
      "cell_type": "code",
      "source": [
        "import pandas as pd\n",
        "import numpy as np\n",
        "import os\n",
        "import glob"
      ],
      "execution_count": 0,
      "outputs": []
    },
    {
      "metadata": {
        "id": "76_1DLJ5cjp5",
        "colab_type": "code",
        "outputId": "04d6efa2-e8c6-4608-f8c5-66f7be708706",
        "colab": {
          "base_uri": "https://localhost:8080/",
          "height": 173
        }
      },
      "cell_type": "code",
      "source": [
        "# load data and do preliminary cleaning\n",
        "\n",
        "filepath = '/content/data/Thursday-01-03-2018_TrafficForML_CICFlowMeter.csv'\n",
        "df1 = pd.read_csv(filepath)\n",
        "df1 = df1[df1['Protocol'] != 'Protocol']\n",
        "filepath = '/content/data/Friday-16-02-2018_TrafficForML_CICFlowMeter.csv'\n",
        "df2 = pd.read_csv(filepath)\n",
        "df2 = df2[df2['Protocol'] != 'Protocol']\n",
        "filepath = '/content/data/Friday-02-03-2018_TrafficForML_CICFlowMeter.csv'\n",
        "df3 = pd.read_csv(filepath)\n",
        "filepath = '/content/data/Friday-23-02-2018_TrafficForML_CICFlowMeter.csv'\n",
        "df4 = pd.read_csv(filepath)\n",
        "filepath = '/content/data/Thursday-15-02-2018_TrafficForML_CICFlowMeter.csv'\n",
        "df5 = pd.read_csv(filepath)\n",
        "filepath = '/content/data/Wednesday-14-02-2018_TrafficForML_CICFlowMeter.csv'\n",
        "df6 = pd.read_csv(filepath)\n",
        "filepath = '/content/data/Thursday-22-02-2018_TrafficForML_CICFlowMeter.csv'\n",
        "df7 = pd.read_csv(filepath)\n",
        "filepath = '/content/data/Wednesday-28-02-2018_TrafficForML_CICFlowMeter.csv'\n",
        "df8 = pd.read_csv(filepath)\n",
        "df8 = df8[df8['Protocol'] != 'Protocol']\n",
        "filepath = '/content/data/Wednesday-21-02-2018_TrafficForML_CICFlowMeter.csv'\n",
        "df9 = pd.read_csv(filepath)\n"
      ],
      "execution_count": 3,
      "outputs": [
        {
          "output_type": "stream",
          "text": [
            "/usr/local/lib/python3.6/dist-packages/IPython/core/interactiveshell.py:2718: DtypeWarning: Columns (0,1,3,4,5,6,7,8,9,10,11,12,13,14,15,16,18,19,20,21,22,23,24,25,26,27,28,29,30,31,32,33,34,35,36,37,38,39,40,41,42,43,44,45,46,47,48,49,50,51,52,53,54,55,56,57,58,59,60,61,62,63,64,65,66,67,68,69,70,71,72,73,74,75,76,77,78) have mixed types. Specify dtype option on import or set low_memory=False.\n",
            "  interactivity=interactivity, compiler=compiler, result=result)\n",
            "/usr/local/lib/python3.6/dist-packages/IPython/core/interactiveshell.py:2718: DtypeWarning: Columns (0,1,3,4,5,6,7,8,9,10,11,12,13,14,15,16,17,18,19,20,21,22,23,24,25,26,27,28,29,30,31,32,33,34,35,36,37,38,39,40,41,42,43,44,45,46,47,48,49,50,51,52,53,54,55,56,57,58,59,60,61,62,63,64,65,66,67,68,69,70,71,72,73,74,75,76,77,78) have mixed types. Specify dtype option on import or set low_memory=False.\n",
            "  interactivity=interactivity, compiler=compiler, result=result)\n",
            "/usr/local/lib/python3.6/dist-packages/IPython/core/interactiveshell.py:2718: DtypeWarning: Columns (16,17) have mixed types. Specify dtype option on import or set low_memory=False.\n",
            "  interactivity=interactivity, compiler=compiler, result=result)\n",
            "/usr/local/lib/python3.6/dist-packages/IPython/core/interactiveshell.py:2718: DtypeWarning: Columns (16) have mixed types. Specify dtype option on import or set low_memory=False.\n",
            "  interactivity=interactivity, compiler=compiler, result=result)\n"
          ],
          "name": "stderr"
        }
      ]
    },
    {
      "metadata": {
        "id": "uXyJJOBISh39",
        "colab_type": "code",
        "colab": {
          "base_uri": "https://localhost:8080/",
          "height": 34
        },
        "outputId": "bdf46b04-cd05-4b40-99bf-b5d9e229b534"
      },
      "cell_type": "code",
      "source": [
        "# df9.head()\n",
        "# len(df1)\n",
        "print(len(df1)+len(df2)+len(df3)+len(df4)+len(df5)+len(df6)+len(df7)+len(df8)+len(df9))\n"
      ],
      "execution_count": 4,
      "outputs": [
        {
          "output_type": "stream",
          "text": [
            "8284195\n"
          ],
          "name": "stdout"
        }
      ]
    },
    {
      "metadata": {
        "id": "tom9WRWrXUFH",
        "colab_type": "code",
        "colab": {}
      },
      "cell_type": "code",
      "source": [
        "df = pd.concat([df1,df2,df3,df4,df5,df6,df7,df8,df9], ignore_index=True)"
      ],
      "execution_count": 0,
      "outputs": []
    },
    {
      "metadata": {
        "id": "WsF4CSgi8na2",
        "colab_type": "code",
        "colab": {}
      },
      "cell_type": "code",
      "source": [
        "# clean up intermediary dataframes to free memory\n",
        "del df1\n",
        "del df2\n",
        "del df3\n",
        "del df4\n",
        "del df5\n",
        "del df6\n",
        "del df7\n",
        "del df8\n",
        "del df9"
      ],
      "execution_count": 0,
      "outputs": []
    }
  ]
}